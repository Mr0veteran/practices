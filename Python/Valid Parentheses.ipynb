{
 "cells": [
  {
   "cell_type": "code",
   "execution_count": 20,
   "metadata": {},
   "outputs": [
    {
     "name": "stdout",
     "output_type": "stream",
     "text": [
      "True\n"
     ]
    }
   ],
   "source": [
    "a = {'(':')','{':'}','[':']'}\n",
    "def determine_simble(text):\n",
    "    if text.count('(') == text.count(')') and text.count('{') == text.count('}') and text.count('[') == text.count(']'):\n",
    "        for i in a.keys():\n",
    "            for j in range(text.count(i)):\n",
    "                if text.find(i,j)<text.find(a[i],j):\n",
    "                    pass\n",
    "                else:\n",
    "                    return False\n",
    "        return True\n",
    "                \n",
    "    else:\n",
    "        return False\n",
    "            \n",
    "            \n",
    "print(determine_simble('(weaweg((adsgawe((weg()awe)sdga))awegaa))'))"
   ]
  },
  {
   "cell_type": "code",
   "execution_count": null,
   "metadata": {},
   "outputs": [],
   "source": []
  },
  {
   "cell_type": "code",
   "execution_count": null,
   "metadata": {},
   "outputs": [],
   "source": []
  },
  {
   "cell_type": "code",
   "execution_count": null,
   "metadata": {},
   "outputs": [],
   "source": []
  },
  {
   "cell_type": "code",
   "execution_count": null,
   "metadata": {},
   "outputs": [],
   "source": []
  }
 ],
 "metadata": {
  "kernelspec": {
   "display_name": "Python 3",
   "language": "python",
   "name": "python3"
  },
  "language_info": {
   "codemirror_mode": {
    "name": "ipython",
    "version": 3
   },
   "file_extension": ".py",
   "mimetype": "text/x-python",
   "name": "python",
   "nbconvert_exporter": "python",
   "pygments_lexer": "ipython3",
   "version": "3.7.0"
  }
 },
 "nbformat": 4,
 "nbformat_minor": 2
}

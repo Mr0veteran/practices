{
 "cells": [
  {
   "cell_type": "code",
   "execution_count": null,
   "metadata": {},
   "outputs": [],
   "source": [
    "def merge_lists(x,y):\n",
    "    j = []\n",
    "    a = []\n",
    "    for i in x:\n",
    "        try:\n",
    "            i = int(i)\n",
    "        except:\n",
    "            j.append(i)\n",
    "            break\n",
    "#    print (j)\n",
    "    s_x = x.split(str(j[0]))\n",
    "    for k in s_x[1]:\n",
    "        try:\n",
    "            k = int(k)\n",
    "            break\n",
    "        except:\n",
    "            j.append(k)\n",
    "    j = ''.join(j)\n",
    "    x = x.split(j)\n",
    "    y = y.split(j)\n",
    "    a = x + y\n",
    "    for i in range(len(a)):\n",
    "        a[i] = int(a[i])\n",
    "    a.sort()\n",
    "    for i in range(len(a)):\n",
    "        a[i] = str(a[i])\n",
    "    a = j.join(a)\n",
    "    return a"
   ]
  }
 ],
 "metadata": {
  "kernelspec": {
   "display_name": "Python 3",
   "language": "python",
   "name": "python3"
  },
  "language_info": {
   "codemirror_mode": {
    "name": "ipython",
    "version": 3
   },
   "file_extension": ".py",
   "mimetype": "text/x-python",
   "name": "python",
   "nbconvert_exporter": "python",
   "pygments_lexer": "ipython3",
   "version": "3.7.0"
  }
 },
 "nbformat": 4,
 "nbformat_minor": 2
}

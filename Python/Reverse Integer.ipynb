{
 "cells": [
  {
   "cell_type": "code",
   "execution_count": 112,
   "metadata": {},
   "outputs": [],
   "source": [
    "def reverse(x):\n",
    "    lst = []\n",
    "    a=''\n",
    "    num = abs(x)\n",
    "    while num != 0:\n",
    "        lst.append(num)\n",
    "        num = int(num/10)\n",
    "    for i in range(len(lst)-1):\n",
    "        lst[i] = str(lst[i] - lst[i+1]*10)\n",
    "    lst[len(lst)-1] = str(lst[len(lst)-1])\n",
    "    for i in lst:\n",
    "        a = a+i\n",
    "    if x > 0:\n",
    "        num = int(a)\n",
    "    else:\n",
    "        num = -1* int(a)\n",
    "    return num"
   ]
  },
  {
   "cell_type": "code",
   "execution_count": 114,
   "metadata": {},
   "outputs": [
    {
     "name": "stdout",
     "output_type": "stream",
     "text": [
      "[1234512342, 123451234, 12345123, 1234512, 123451, 12345, 1234, 123, 12, 1]\n",
      "-2432154321\n"
     ]
    }
   ],
   "source": [
    "print(reverse(-1234512342))"
   ]
  },
  {
   "cell_type": "code",
   "execution_count": null,
   "metadata": {},
   "outputs": [],
   "source": []
  },
  {
   "cell_type": "code",
   "execution_count": null,
   "metadata": {},
   "outputs": [],
   "source": []
  }
 ],
 "metadata": {
  "kernelspec": {
   "display_name": "Python 3",
   "language": "python",
   "name": "python3"
  },
  "language_info": {
   "codemirror_mode": {
    "name": "ipython",
    "version": 3
   },
   "file_extension": ".py",
   "mimetype": "text/x-python",
   "name": "python",
   "nbconvert_exporter": "python",
   "pygments_lexer": "ipython3",
   "version": "3.7.0"
  }
 },
 "nbformat": 4,
 "nbformat_minor": 2
}

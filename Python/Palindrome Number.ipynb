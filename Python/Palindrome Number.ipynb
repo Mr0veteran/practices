{
 "cells": [
  {
   "cell_type": "code",
   "execution_count": 2,
   "metadata": {},
   "outputs": [
    {
     "name": "stdout",
     "output_type": "stream",
     "text": [
      "False\n"
     ]
    }
   ],
   "source": [
    "integer = 12345\n",
    "def reverse(x):\n",
    "    lst = []\n",
    "    a=''\n",
    "    while x != 0:\n",
    "        lst.append(x)\n",
    "        x = int(x/10)\n",
    "    for i in range(len(lst)-1):\n",
    "        lst[i] = str(lst[i] - lst[i+1]*10)\n",
    "    lst[len(lst)-1] = str(lst[len(lst)-1])\n",
    "    for i in lst:\n",
    "        a = a+i\n",
    "    x = int(a)\n",
    "    return x\n",
    "print (reverse(integer)==integer)"
   ]
  },
  {
   "cell_type": "code",
   "execution_count": null,
   "metadata": {},
   "outputs": [],
   "source": []
  }
 ],
 "metadata": {
  "kernelspec": {
   "display_name": "Python 3",
   "language": "python",
   "name": "python3"
  },
  "language_info": {
   "codemirror_mode": {
    "name": "ipython",
    "version": 3
   },
   "file_extension": ".py",
   "mimetype": "text/x-python",
   "name": "python",
   "nbconvert_exporter": "python",
   "pygments_lexer": "ipython3",
   "version": "3.7.0"
  }
 },
 "nbformat": 4,
 "nbformat_minor": 2
}

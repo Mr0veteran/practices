{
 "cells": [
  {
   "cell_type": "code",
   "execution_count": 19,
   "metadata": {},
   "outputs": [
    {
     "name": "stdout",
     "output_type": "stream",
     "text": [
      "0\n",
      "1\n",
      "2\n",
      "3\n"
     ]
    },
    {
     "data": {
      "text/plain": [
       "44"
      ]
     },
     "execution_count": 19,
     "metadata": {},
     "output_type": "execute_result"
    }
   ],
   "source": [
    "roman_int = {'I':1,'V':5,'X':10,'L':50,'C':100,'D':500,'M':1000}\n",
    "def caculate_roman_int(s):\n",
    "    a = 0\n",
    "    b = ''\n",
    "    for i in range(len(s)):\n",
    "        if s[i]=='I' and s[i+1]!='I':\n",
    "            b = str(roman_int[s[i+1]])\n",
    "            c = ''\n",
    "            if int(b[0])-1 == 0:\n",
    "                c = list(b[1:])\n",
    "                c[0] = '9'\n",
    "                c = int(''.join(c))\n",
    "                a = a + c\n",
    "            else:\n",
    "                c = list(b)\n",
    "                c[0] = '4'\n",
    "                c = int(''.join(c))\n",
    "                a = a + c\n",
    "        else:\n",
    "            if i>0 and s[i]!= 'I' and s[i-1]=='I':\n",
    "                pass\n",
    "            else:\n",
    "                a = a + roman_int[s[i]]\n",
    "    return a\n",
    "\n",
    "caculate_roman_int('ILIV')"
   ]
  },
  {
   "cell_type": "code",
   "execution_count": 15,
   "metadata": {},
   "outputs": [
    {
     "data": {
      "text/plain": [
       "int"
      ]
     },
     "execution_count": 15,
     "metadata": {},
     "output_type": "execute_result"
    }
   ],
   "source": [
    "type(roman_int['V'])\n"
   ]
  },
  {
   "cell_type": "code",
   "execution_count": 21,
   "metadata": {},
   "outputs": [
    {
     "data": {
      "text/plain": [
       "1"
      ]
     },
     "execution_count": 21,
     "metadata": {},
     "output_type": "execute_result"
    }
   ],
   "source": [
    "a = 'adult'\n",
    "a.index('du')"
   ]
  },
  {
   "cell_type": "code",
   "execution_count": null,
   "metadata": {},
   "outputs": [],
   "source": []
  }
 ],
 "metadata": {
  "kernelspec": {
   "display_name": "Python 3",
   "language": "python",
   "name": "python3"
  },
  "language_info": {
   "codemirror_mode": {
    "name": "ipython",
    "version": 3
   },
   "file_extension": ".py",
   "mimetype": "text/x-python",
   "name": "python",
   "nbconvert_exporter": "python",
   "pygments_lexer": "ipython3",
   "version": "3.7.0"
  }
 },
 "nbformat": 4,
 "nbformat_minor": 2
}

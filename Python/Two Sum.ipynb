{
 "cells": [
  {
   "cell_type": "code",
   "execution_count": 5,
   "metadata": {},
   "outputs": [],
   "source": [
    "def two_sum(integers,target):\n",
    "    j=0\n",
    "    lst = []\n",
    "    for i in integers:\n",
    "        j = integers.index(i)+1\n",
    "        while j <= (len(integers)-1):\n",
    "            if (i+integers[j])==target:\n",
    "                lst.append(i)\n",
    "                lst.append(integers[j])\n",
    "                return lst\n",
    "            else:\n",
    "                j += 1\n",
    "                \n",
    "                "
   ]
  },
  {
   "cell_type": "code",
   "execution_count": 6,
   "metadata": {},
   "outputs": [
    {
     "name": "stdout",
     "output_type": "stream",
     "text": [
      "[2, 11]\n"
     ]
    }
   ],
   "source": [
    "l = [2,7,11,15]\n",
    "print(two_sum(l,13))"
   ]
  },
  {
   "cell_type": "code",
   "execution_count": null,
   "metadata": {},
   "outputs": [],
   "source": []
  }
 ],
 "metadata": {
  "kernelspec": {
   "display_name": "Python 3",
   "language": "python",
   "name": "python3"
  },
  "language_info": {
   "codemirror_mode": {
    "name": "ipython",
    "version": 3
   },
   "file_extension": ".py",
   "mimetype": "text/x-python",
   "name": "python",
   "nbconvert_exporter": "python",
   "pygments_lexer": "ipython3",
   "version": "3.7.0"
  }
 },
 "nbformat": 4,
 "nbformat_minor": 2
}

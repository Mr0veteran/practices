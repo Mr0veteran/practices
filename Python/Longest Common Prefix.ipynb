{
 "cells": [
  {
   "cell_type": "code",
   "execution_count": 27,
   "metadata": {},
   "outputs": [
    {
     "name": "stdout",
     "output_type": "stream",
     "text": [
      "<class 'str'>\n"
     ]
    }
   ],
   "source": [
    "def find_co_prefix(words):\n",
    "    pre = []\n",
    "    #prefix = []\n",
    "    i = 0\n",
    "    for i in range(len(min(words,key = len))):\n",
    "        if words[0][i] == words[1][i]:\n",
    "            pre.append(words[0][i])\n",
    "        else:\n",
    "            break\n",
    "    #print(pre)\n",
    "    pre = ''.join(pre)\n",
    "    #print(pre)\n",
    "    for j in range(len(words)):\n",
    "        if pre in words[j] and words[j].index(pre) == 0:\n",
    "            pass\n",
    "        else:\n",
    "            for l in range(len(pre)):\n",
    "                if pre[0:len(pre)-l] in words[j] and words[j].index(pre[0:len(pre)-l]) == 0:\n",
    "                    pre = pre[0:len(pre)-l]\n",
    "                    break\n",
    "                else:\n",
    "                    pass\n",
    "    return pre\n",
    "\n",
    "print(type(find_co_prefix([\"dog\",\"racecar\",\"car\"])))                 \n",
    "                   "
   ]
  },
  {
   "cell_type": "code",
   "execution_count": 28,
   "metadata": {},
   "outputs": [
    {
     "data": {
      "text/plain": [
       "0"
      ]
     },
     "execution_count": 28,
     "metadata": {},
     "output_type": "execute_result"
    }
   ],
   "source": [
    "a = 'abcdef'\n",
    "a.index('abc')"
   ]
  },
  {
   "cell_type": "code",
   "execution_count": null,
   "metadata": {},
   "outputs": [],
   "source": []
  }
 ],
 "metadata": {
  "kernelspec": {
   "display_name": "Python 3",
   "language": "python",
   "name": "python3"
  },
  "language_info": {
   "codemirror_mode": {
    "name": "ipython",
    "version": 3
   },
   "file_extension": ".py",
   "mimetype": "text/x-python",
   "name": "python",
   "nbconvert_exporter": "python",
   "pygments_lexer": "ipython3",
   "version": "3.7.0"
  }
 },
 "nbformat": 4,
 "nbformat_minor": 2
}

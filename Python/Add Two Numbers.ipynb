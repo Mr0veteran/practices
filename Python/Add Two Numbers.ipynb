{
 "cells": [
  {
   "cell_type": "code",
   "execution_count": 36,
   "metadata": {},
   "outputs": [],
   "source": [
    "def addTwoNumbers(l1, l2):\n",
    "    prenum1 = []\n",
    "    prenum2 = []\n",
    "    num1 = []\n",
    "    num2 = []\n",
    "    num = []\n",
    "    for i in l1:\n",
    "        try:\n",
    "            a = int(i)\n",
    "            prenum1.append(i)\n",
    "        except:\n",
    "            pass\n",
    "    for i in range(len(prenum1)):\n",
    "        num1.append(prenum1[len(prenum1)-1-i])\n",
    "    num1 = ''.join(num1)\n",
    "    num1 = int(num1)\n",
    "    for i in l2:\n",
    "        try:\n",
    "            a = int(i)\n",
    "            prenum2.append(i)\n",
    "        except:\n",
    "            pass\n",
    "    for i in range(len(prenum2)):\n",
    "        num2.append(prenum2[len(prenum2)-1-i])\n",
    "    num2 = ''.join(num2)\n",
    "    num2 = int(num2)\n",
    "    prenum = num1 + num2\n",
    "    prenum = str(prenum)\n",
    "    print(prenum)\n",
    "    for i in range(len(prenum)):\n",
    "        num.append(prenum[len(prenum)-1-i])\n",
    "    return num\n"
   ]
  },
  {
   "cell_type": "code",
   "execution_count": 37,
   "metadata": {},
   "outputs": [
    {
     "name": "stdout",
     "output_type": "stream",
     "text": [
      "807\n",
      "['7', '0', '8']\n"
     ]
    }
   ],
   "source": [
    "print(addTwoNumbers('2 -> 4 -> 3','5 -> 6 -> 4'))"
   ]
  },
  {
   "cell_type": "code",
   "execution_count": null,
   "metadata": {},
   "outputs": [],
   "source": []
  },
  {
   "cell_type": "code",
   "execution_count": null,
   "metadata": {},
   "outputs": [],
   "source": []
  }
 ],
 "metadata": {
  "kernelspec": {
   "display_name": "Python 3",
   "language": "python",
   "name": "python3"
  },
  "language_info": {
   "codemirror_mode": {
    "name": "ipython",
    "version": 3
   },
   "file_extension": ".py",
   "mimetype": "text/x-python",
   "name": "python",
   "nbconvert_exporter": "python",
   "pygments_lexer": "ipython3",
   "version": "3.7.0"
  }
 },
 "nbformat": 4,
 "nbformat_minor": 2
}
